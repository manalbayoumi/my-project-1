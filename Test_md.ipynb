{
 "cells": [
  {
   "cell_type": "markdown",
   "id": "5e33d68e",
   "metadata": {},
   "source": [
    "# Logs\n",
    "### October 28 2023   \n",
    "> upload source file credit_card.csv, please download\n",
    "### October 28 2023   \n",
    "> create Manal's branch\n",
    "### Nov 1 2023   \n",
    "> upload \"Manal's plotting\""
   ]
  },
  {
   "cell_type": "markdown",
   "id": "ccab8e7d",
   "metadata": {},
   "source": [
    "Hello   \n",
    "World"
   ]
  },
  {
   "cell_type": "markdown",
   "id": "76b3eff4",
   "metadata": {},
   "source": [
    "# Biggest   \n",
    "###### smallest font"
   ]
  },
  {
   "cell_type": "markdown",
   "id": "b7dac304",
   "metadata": {},
   "source": [
    "### Columns\n",
    "* CLIENT NUMBER\n",
    "* Attrition_Flag"
   ]
  },
  {
   "cell_type": "markdown",
   "id": "4da4c0c5",
   "metadata": {},
   "source": [
    "![my picturename](Pic/Income.png)"
   ]
  },
  {
   "cell_type": "code",
   "execution_count": null,
   "id": "4c7cbb13",
   "metadata": {},
   "outputs": [],
   "source": []
  }
 ],
 "metadata": {
  "kernelspec": {
   "display_name": "Python 3 (ipykernel)",
   "language": "python",
   "name": "python3"
  },
  "language_info": {
   "codemirror_mode": {
    "name": "ipython",
    "version": 3
   },
   "file_extension": ".py",
   "mimetype": "text/x-python",
   "name": "python",
   "nbconvert_exporter": "python",
   "pygments_lexer": "ipython3",
   "version": "3.11.5"
  }
 },
 "nbformat": 4,
 "nbformat_minor": 5
}
